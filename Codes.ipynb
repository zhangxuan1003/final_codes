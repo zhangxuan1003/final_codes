{
 "cells": [
  {
   "cell_type": "code",
   "execution_count": 3,
   "metadata": {},
   "outputs": [],
   "source": [
    "import itk\n",
    "import sys\n",
    "import glob\n",
    "import os\n",
    "import shutil\n",
    "import pandas\n",
    "import random\n",
    "import math\n",
    "from itkwidgets import view\n",
    "import numpy as np"
   ]
  },
  {
   "cell_type": "code",
   "execution_count": null,
   "metadata": {},
   "outputs": [],
   "source": [
    "def rescale_image(image):\n",
    "    InputImageType=itk.Image[itk.F,3]\n",
    "    ImageType=itk.Image[itk.ctype('unsigned char'),3]\n",
    "    rescaler=itk.RescaleIntensityImageFilter[InputImageType,ImageType].New()\n",
    "    rescaler.SetInput(image)\n",
    "    rescaler.SetOutputMinimum(0)\n",
    "    rescaler.SetOutputMaximum(255)\n",
    "    rescaler.Update()"
   ]
  },
  {
   "cell_type": "code",
   "execution_count": null,
   "metadata": {},
   "outputs": [],
   "source": [
    "def resampler(image1,image2):\n",
    "    ImageType=itk.Image[itk.F,3]\n",
    "    resampler=itk.ResampleImageFilter[ImageType,ImageType].New()\n",
    "    #identity transform\n",
    "    transform=itk.IdentityTransform[itk.ctype('double'),3].New()\n",
    "    #transform.SetIdentity()\n",
    "    resampler.SetInput(image2)\n",
    "    resampler.SetTransform(transform)\n",
    "    resampler.SetSize(image1.GetLargestPossibleRegion().GetSize())\n",
    "    resampler.SetUseReferenceImage(True)\n",
    "    resampler.SetReferenceImage(image1)\n",
    "    resampler.SetOutputSpacing(image1.GetSpacing())\n",
    "    resampler.SetOutputOrigin(image1.GetOrigin())\n",
    "    resampler.Update()\n",
    "\n",
    "    "
   ]
  },
  {
   "cell_type": "code",
   "execution_count": null,
   "metadata": {},
   "outputs": [],
   "source": [
    "def flatten_image(input_image):\n",
    "\n",
    "    feat_img = itk.GetArrayFromImage(input_image)\n",
    "    np_image_as_array = feat_img.flatten()  \n",
    "   \n",
    "    return np_image_as_array"
   ]
  },
  {
   "cell_type": "code",
   "execution_count": null,
   "metadata": {},
   "outputs": [],
   "source": [
    "def get_physical_space:\n",
    "    index = itk.Index[Dimension]()\n",
    "            index[0]=i\n",
    "            index[1]=j\n",
    "            index[2]=k\n",
    "    image.TransformIndexToPhysicalPoint(index)"
   ]
  },
  {
   "cell_type": "code",
   "execution_count": null,
   "metadata": {},
   "outputs": [],
   "source": [
    "def get_index:\n",
    "    image.TransformPhysicalPointToIndex((point))"
   ]
  },
  {
   "cell_type": "code",
   "execution_count": 4,
   "metadata": {},
   "outputs": [],
   "source": [
    "def array_to_image(array,imsize):\n",
    "    image_mtrx= array.reshape((imsize[2], imsize[1], imsize[0])).astype(np.float32)\n",
    "    image=itk.GetImageFromArray(image_mtrx)"
   ]
  },
  {
   "cell_type": "code",
   "execution_count": null,
   "metadata": {},
   "outputs": [],
   "source": []
  }
 ],
 "metadata": {
  "kernelspec": {
   "display_name": "Python 3",
   "language": "python",
   "name": "python3"
  },
  "language_info": {
   "codemirror_mode": {
    "name": "ipython",
    "version": 3
   },
   "file_extension": ".py",
   "mimetype": "text/x-python",
   "name": "python",
   "nbconvert_exporter": "python",
   "pygments_lexer": "ipython3",
   "version": "3.7.3"
  }
 },
 "nbformat": 4,
 "nbformat_minor": 2
}
